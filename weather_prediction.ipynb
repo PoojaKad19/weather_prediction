{
 "cells": [
  {
   "cell_type": "markdown",
   "id": "28951374",
   "metadata": {
    "papermill": {
     "duration": 0.01468,
     "end_time": "2022-11-17T03:23:33.745653",
     "exception": false,
     "start_time": "2022-11-17T03:23:33.730973",
     "status": "completed"
    },
    "tags": []
   },
   "source": [
    "# Weather Prediction\n",
    "\n",
    "## Problem Statement\n",
    "The objective of the dataset is to Predict whether conditions is :'drizzle', 'rain', 'sun', 'snow', 'fog' \n",
    "\n",
    "This is multiclass classification model to predict weather condition.\n"
   ]
  },
  {
   "cell_type": "markdown",
   "id": "b6ad92b5",
   "metadata": {
    "papermill": {
     "duration": 0.018036,
     "end_time": "2022-11-17T03:23:33.779153",
     "exception": false,
     "start_time": "2022-11-17T03:23:33.761117",
     "status": "completed"
    },
    "tags": []
   },
   "source": [
    "# Data Defining\n",
    "Based on some factor we are, going to predict the weathers..\n",
    "\n",
    "**Input Variables:**\n",
    "\n",
    "1) **date:**Date is started from 01-01-2012 to 31-12-2015.\t\n",
    "\n",
    "2) **precipitation:**  All forms in which water falls on the land surface and open water bodies as rain, sleet, snow, hail, or drizzle\n",
    "\n",
    "3) **temp_max:**\tMaximum temperature of a particular day.\n",
    "\n",
    "4) **temp_min:**\tMinimum temperature of a particular day.\n",
    "\n",
    "5) **wind:** Wind speed\t(Km/hr)\n",
    "\n",
    "**Target Variable:**\n",
    "\n",
    "6) **weather:** weathers types('drizzle', 'rain', 'sun', 'snow', 'fog')\n"
   ]
  },
  {
   "cell_type": "markdown",
   "id": "b79fd620",
   "metadata": {
    "papermill": {
     "duration": 0.012643,
     "end_time": "2022-11-17T03:23:33.804434",
     "exception": false,
     "start_time": "2022-11-17T03:23:33.791791",
     "status": "completed"
    },
    "tags": []
   },
   "source": [
    "<a id='import_packages'></a>\n",
    "## 1. Import Packages"
   ]
  },
  {
   "cell_type": "code",
   "execution_count": 1,
   "id": "a91da10c",
   "metadata": {
    "execution": {
     "iopub.execute_input": "2022-11-17T03:23:33.835328Z",
     "iopub.status.busy": "2022-11-17T03:23:33.834620Z",
     "iopub.status.idle": "2022-11-17T03:23:36.019474Z",
     "shell.execute_reply": "2022-11-17T03:23:36.018255Z"
    },
    "papermill": {
     "duration": 2.202173,
     "end_time": "2022-11-17T03:23:36.022626",
     "exception": false,
     "start_time": "2022-11-17T03:23:33.820453",
     "status": "completed"
    },
    "tags": []
   },
   "outputs": [],
   "source": [
    "#Import the libraries\n",
    "import warnings\n",
    "warnings.filterwarnings('ignore')\n",
    "\n",
    "import pandas as pd\n",
    "import numpy as np\n",
    "import matplotlib.pyplot as plt\n",
    "import seaborn as sns\n",
    "from pandas.api.types import is_string_dtype\n",
    "\n",
    "from sklearn.preprocessing import StandardScaler\n",
    "from matplotlib.colors import ListedColormap\n",
    "from sklearn.model_selection import train_test_split\n",
    "from sklearn import metrics\n",
    "from sklearn.metrics import classification_report\n",
    "from sklearn.metrics import accuracy_score\n",
    "from sklearn.metrics import cohen_kappa_score\n",
    "from sklearn.metrics import confusion_matrix\n",
    "\n",
    "import statsmodels\n",
    "import statsmodels.api as sm"
   ]
  },
  {
   "cell_type": "markdown",
   "id": "15c3f1cd",
   "metadata": {
    "papermill": {
     "duration": 0.010397,
     "end_time": "2022-11-17T03:23:36.044099",
     "exception": false,
     "start_time": "2022-11-17T03:23:36.033702",
     "status": "completed"
    },
    "tags": []
   },
   "source": [
    "## 2. Set Options"
   ]
  },
  {
   "cell_type": "code",
   "execution_count": 2,
   "id": "08a8b705",
   "metadata": {
    "execution": {
     "iopub.execute_input": "2022-11-17T03:23:36.067583Z",
     "iopub.status.busy": "2022-11-17T03:23:36.067109Z",
     "iopub.status.idle": "2022-11-17T03:23:36.073274Z",
     "shell.execute_reply": "2022-11-17T03:23:36.072035Z"
    },
    "papermill": {
     "duration": 0.020788,
     "end_time": "2022-11-17T03:23:36.075741",
     "exception": false,
     "start_time": "2022-11-17T03:23:36.054953",
     "status": "completed"
    },
    "tags": []
   },
   "outputs": [],
   "source": [
    "pd.options.display.max_columns = None\n",
    "pd.options.display.max_rows = None\n",
    "\n",
    "np.set_printoptions(suppress=True)"
   ]
  },
  {
   "cell_type": "markdown",
   "id": "e24ae8a4",
   "metadata": {
    "papermill": {
     "duration": 0.010465,
     "end_time": "2022-11-17T03:23:36.097065",
     "exception": false,
     "start_time": "2022-11-17T03:23:36.086600",
     "status": "completed"
    },
    "tags": []
   },
   "source": [
    "<a id='Read_Data'></a>\n",
    "## 3. Read the Data"
   ]
  },
  {
   "cell_type": "code",
   "execution_count": 3,
   "id": "f305021a",
   "metadata": {
    "execution": {
     "iopub.execute_input": "2022-11-17T03:23:36.120742Z",
     "iopub.status.busy": "2022-11-17T03:23:36.120278Z",
     "iopub.status.idle": "2022-11-17T03:23:36.162124Z",
     "shell.execute_reply": "2022-11-17T03:23:36.160848Z"
    },
    "papermill": {
     "duration": 0.057048,
     "end_time": "2022-11-17T03:23:36.165115",
     "exception": false,
     "start_time": "2022-11-17T03:23:36.108067",
     "status": "completed"
    },
    "tags": []
   },
   "outputs": [
    {
     "data": {
      "text/html": [
       "<div>\n",
       "<style scoped>\n",
       "    .dataframe tbody tr th:only-of-type {\n",
       "        vertical-align: middle;\n",
       "    }\n",
       "\n",
       "    .dataframe tbody tr th {\n",
       "        vertical-align: top;\n",
       "    }\n",
       "\n",
       "    .dataframe thead th {\n",
       "        text-align: right;\n",
       "    }\n",
       "</style>\n",
       "<table border=\"1\" class=\"dataframe\">\n",
       "  <thead>\n",
       "    <tr style=\"text-align: right;\">\n",
       "      <th></th>\n",
       "      <th>date</th>\n",
       "      <th>precipitation</th>\n",
       "      <th>temp_max</th>\n",
       "      <th>temp_min</th>\n",
       "      <th>wind</th>\n",
       "      <th>weather</th>\n",
       "    </tr>\n",
       "  </thead>\n",
       "  <tbody>\n",
       "    <tr>\n",
       "      <th>0</th>\n",
       "      <td>2012-01-01</td>\n",
       "      <td>0.0</td>\n",
       "      <td>12.8</td>\n",
       "      <td>5.0</td>\n",
       "      <td>4.7</td>\n",
       "      <td>drizzle</td>\n",
       "    </tr>\n",
       "    <tr>\n",
       "      <th>1</th>\n",
       "      <td>2012-01-02</td>\n",
       "      <td>10.9</td>\n",
       "      <td>10.6</td>\n",
       "      <td>2.8</td>\n",
       "      <td>4.5</td>\n",
       "      <td>rain</td>\n",
       "    </tr>\n",
       "    <tr>\n",
       "      <th>2</th>\n",
       "      <td>2012-01-03</td>\n",
       "      <td>0.8</td>\n",
       "      <td>11.7</td>\n",
       "      <td>7.2</td>\n",
       "      <td>2.3</td>\n",
       "      <td>rain</td>\n",
       "    </tr>\n",
       "    <tr>\n",
       "      <th>3</th>\n",
       "      <td>2012-01-04</td>\n",
       "      <td>20.3</td>\n",
       "      <td>12.2</td>\n",
       "      <td>5.6</td>\n",
       "      <td>4.7</td>\n",
       "      <td>rain</td>\n",
       "    </tr>\n",
       "    <tr>\n",
       "      <th>4</th>\n",
       "      <td>2012-01-05</td>\n",
       "      <td>1.3</td>\n",
       "      <td>8.9</td>\n",
       "      <td>2.8</td>\n",
       "      <td>6.1</td>\n",
       "      <td>rain</td>\n",
       "    </tr>\n",
       "    <tr>\n",
       "      <th>5</th>\n",
       "      <td>2012-01-06</td>\n",
       "      <td>2.5</td>\n",
       "      <td>4.4</td>\n",
       "      <td>2.2</td>\n",
       "      <td>2.2</td>\n",
       "      <td>rain</td>\n",
       "    </tr>\n",
       "    <tr>\n",
       "      <th>6</th>\n",
       "      <td>2012-01-07</td>\n",
       "      <td>0.0</td>\n",
       "      <td>7.2</td>\n",
       "      <td>2.8</td>\n",
       "      <td>2.3</td>\n",
       "      <td>rain</td>\n",
       "    </tr>\n",
       "    <tr>\n",
       "      <th>7</th>\n",
       "      <td>2012-01-08</td>\n",
       "      <td>0.0</td>\n",
       "      <td>10.0</td>\n",
       "      <td>2.8</td>\n",
       "      <td>2.0</td>\n",
       "      <td>sun</td>\n",
       "    </tr>\n",
       "    <tr>\n",
       "      <th>8</th>\n",
       "      <td>2012-01-09</td>\n",
       "      <td>4.3</td>\n",
       "      <td>9.4</td>\n",
       "      <td>5.0</td>\n",
       "      <td>3.4</td>\n",
       "      <td>rain</td>\n",
       "    </tr>\n",
       "    <tr>\n",
       "      <th>9</th>\n",
       "      <td>2012-01-10</td>\n",
       "      <td>1.0</td>\n",
       "      <td>6.1</td>\n",
       "      <td>0.6</td>\n",
       "      <td>3.4</td>\n",
       "      <td>rain</td>\n",
       "    </tr>\n",
       "  </tbody>\n",
       "</table>\n",
       "</div>"
      ],
      "text/plain": [
       "         date  precipitation  temp_max  temp_min  wind  weather\n",
       "0  2012-01-01            0.0      12.8       5.0   4.7  drizzle\n",
       "1  2012-01-02           10.9      10.6       2.8   4.5     rain\n",
       "2  2012-01-03            0.8      11.7       7.2   2.3     rain\n",
       "3  2012-01-04           20.3      12.2       5.6   4.7     rain\n",
       "4  2012-01-05            1.3       8.9       2.8   6.1     rain\n",
       "5  2012-01-06            2.5       4.4       2.2   2.2     rain\n",
       "6  2012-01-07            0.0       7.2       2.8   2.3     rain\n",
       "7  2012-01-08            0.0      10.0       2.8   2.0      sun\n",
       "8  2012-01-09            4.3       9.4       5.0   3.4     rain\n",
       "9  2012-01-10            1.0       6.1       0.6   3.4     rain"
      ]
     },
     "execution_count": 3,
     "metadata": {},
     "output_type": "execute_result"
    }
   ],
   "source": [
    "df= pd.read_csv(\"seattle-weather.csv\")\n",
    "df.head(10)"
   ]
  },
  {
   "cell_type": "code",
   "execution_count": 4,
   "id": "35882638",
   "metadata": {
    "execution": {
     "iopub.execute_input": "2022-11-17T03:23:36.189283Z",
     "iopub.status.busy": "2022-11-17T03:23:36.188859Z",
     "iopub.status.idle": "2022-11-17T03:23:36.205909Z",
     "shell.execute_reply": "2022-11-17T03:23:36.204741Z"
    },
    "papermill": {
     "duration": 0.031946,
     "end_time": "2022-11-17T03:23:36.208158",
     "exception": false,
     "start_time": "2022-11-17T03:23:36.176212",
     "status": "completed"
    },
    "tags": []
   },
   "outputs": [
    {
     "data": {
      "text/html": [
       "<div>\n",
       "<style scoped>\n",
       "    .dataframe tbody tr th:only-of-type {\n",
       "        vertical-align: middle;\n",
       "    }\n",
       "\n",
       "    .dataframe tbody tr th {\n",
       "        vertical-align: top;\n",
       "    }\n",
       "\n",
       "    .dataframe thead th {\n",
       "        text-align: right;\n",
       "    }\n",
       "</style>\n",
       "<table border=\"1\" class=\"dataframe\">\n",
       "  <thead>\n",
       "    <tr style=\"text-align: right;\">\n",
       "      <th></th>\n",
       "      <th>date</th>\n",
       "      <th>precipitation</th>\n",
       "      <th>temp_max</th>\n",
       "      <th>temp_min</th>\n",
       "      <th>wind</th>\n",
       "      <th>weather</th>\n",
       "    </tr>\n",
       "  </thead>\n",
       "  <tbody>\n",
       "    <tr>\n",
       "      <th>1451</th>\n",
       "      <td>2015-12-22</td>\n",
       "      <td>4.6</td>\n",
       "      <td>7.8</td>\n",
       "      <td>2.8</td>\n",
       "      <td>5.0</td>\n",
       "      <td>rain</td>\n",
       "    </tr>\n",
       "    <tr>\n",
       "      <th>1452</th>\n",
       "      <td>2015-12-23</td>\n",
       "      <td>6.1</td>\n",
       "      <td>5.0</td>\n",
       "      <td>2.8</td>\n",
       "      <td>7.6</td>\n",
       "      <td>rain</td>\n",
       "    </tr>\n",
       "    <tr>\n",
       "      <th>1453</th>\n",
       "      <td>2015-12-24</td>\n",
       "      <td>2.5</td>\n",
       "      <td>5.6</td>\n",
       "      <td>2.2</td>\n",
       "      <td>4.3</td>\n",
       "      <td>rain</td>\n",
       "    </tr>\n",
       "    <tr>\n",
       "      <th>1454</th>\n",
       "      <td>2015-12-25</td>\n",
       "      <td>5.8</td>\n",
       "      <td>5.0</td>\n",
       "      <td>2.2</td>\n",
       "      <td>1.5</td>\n",
       "      <td>rain</td>\n",
       "    </tr>\n",
       "    <tr>\n",
       "      <th>1455</th>\n",
       "      <td>2015-12-26</td>\n",
       "      <td>0.0</td>\n",
       "      <td>4.4</td>\n",
       "      <td>0.0</td>\n",
       "      <td>2.5</td>\n",
       "      <td>sun</td>\n",
       "    </tr>\n",
       "    <tr>\n",
       "      <th>1456</th>\n",
       "      <td>2015-12-27</td>\n",
       "      <td>8.6</td>\n",
       "      <td>4.4</td>\n",
       "      <td>1.7</td>\n",
       "      <td>2.9</td>\n",
       "      <td>rain</td>\n",
       "    </tr>\n",
       "    <tr>\n",
       "      <th>1457</th>\n",
       "      <td>2015-12-28</td>\n",
       "      <td>1.5</td>\n",
       "      <td>5.0</td>\n",
       "      <td>1.7</td>\n",
       "      <td>1.3</td>\n",
       "      <td>rain</td>\n",
       "    </tr>\n",
       "    <tr>\n",
       "      <th>1458</th>\n",
       "      <td>2015-12-29</td>\n",
       "      <td>0.0</td>\n",
       "      <td>7.2</td>\n",
       "      <td>0.6</td>\n",
       "      <td>2.6</td>\n",
       "      <td>fog</td>\n",
       "    </tr>\n",
       "    <tr>\n",
       "      <th>1459</th>\n",
       "      <td>2015-12-30</td>\n",
       "      <td>0.0</td>\n",
       "      <td>5.6</td>\n",
       "      <td>-1.0</td>\n",
       "      <td>3.4</td>\n",
       "      <td>sun</td>\n",
       "    </tr>\n",
       "    <tr>\n",
       "      <th>1460</th>\n",
       "      <td>2015-12-31</td>\n",
       "      <td>0.0</td>\n",
       "      <td>5.6</td>\n",
       "      <td>-2.1</td>\n",
       "      <td>3.5</td>\n",
       "      <td>sun</td>\n",
       "    </tr>\n",
       "  </tbody>\n",
       "</table>\n",
       "</div>"
      ],
      "text/plain": [
       "            date  precipitation  temp_max  temp_min  wind weather\n",
       "1451  2015-12-22            4.6       7.8       2.8   5.0    rain\n",
       "1452  2015-12-23            6.1       5.0       2.8   7.6    rain\n",
       "1453  2015-12-24            2.5       5.6       2.2   4.3    rain\n",
       "1454  2015-12-25            5.8       5.0       2.2   1.5    rain\n",
       "1455  2015-12-26            0.0       4.4       0.0   2.5     sun\n",
       "1456  2015-12-27            8.6       4.4       1.7   2.9    rain\n",
       "1457  2015-12-28            1.5       5.0       1.7   1.3    rain\n",
       "1458  2015-12-29            0.0       7.2       0.6   2.6     fog\n",
       "1459  2015-12-30            0.0       5.6      -1.0   3.4     sun\n",
       "1460  2015-12-31            0.0       5.6      -2.1   3.5     sun"
      ]
     },
     "execution_count": 4,
     "metadata": {},
     "output_type": "execute_result"
    }
   ],
   "source": [
    "df.tail(10)"
   ]
  },
  {
   "cell_type": "markdown",
   "id": "1d130449",
   "metadata": {
    "papermill": {
     "duration": 0.010955,
     "end_time": "2022-11-17T03:23:36.230394",
     "exception": false,
     "start_time": "2022-11-17T03:23:36.219439",
     "status": "completed"
    },
    "tags": []
   },
   "source": [
    "<a id='data_preparation'></a>\n",
    "## 4. Understand and Prepare the Data"
   ]
  },
  {
   "cell_type": "markdown",
   "id": "63a94f61",
   "metadata": {
    "papermill": {
     "duration": 0.010877,
     "end_time": "2022-11-17T03:23:36.252636",
     "exception": false,
     "start_time": "2022-11-17T03:23:36.241759",
     "status": "completed"
    },
    "tags": []
   },
   "source": [
    "## 4.1 Data Types and Dimensions"
   ]
  },
  {
   "cell_type": "code",
   "execution_count": 5,
   "id": "ffaf418f",
   "metadata": {
    "execution": {
     "iopub.execute_input": "2022-11-17T03:23:36.278057Z",
     "iopub.status.busy": "2022-11-17T03:23:36.277551Z",
     "iopub.status.idle": "2022-11-17T03:23:36.285390Z",
     "shell.execute_reply": "2022-11-17T03:23:36.284182Z"
    },
    "papermill": {
     "duration": 0.023947,
     "end_time": "2022-11-17T03:23:36.287993",
     "exception": false,
     "start_time": "2022-11-17T03:23:36.264046",
     "status": "completed"
    },
    "tags": []
   },
   "outputs": [
    {
     "data": {
      "text/plain": [
       "(1461, 6)"
      ]
     },
     "execution_count": 5,
     "metadata": {},
     "output_type": "execute_result"
    }
   ],
   "source": [
    "df.shape"
   ]
  },
  {
   "cell_type": "code",
   "execution_count": 6,
   "id": "051b98e4",
   "metadata": {
    "execution": {
     "iopub.execute_input": "2022-11-17T03:23:36.314017Z",
     "iopub.status.busy": "2022-11-17T03:23:36.313123Z",
     "iopub.status.idle": "2022-11-17T03:23:36.339570Z",
     "shell.execute_reply": "2022-11-17T03:23:36.338184Z"
    },
    "papermill": {
     "duration": 0.043151,
     "end_time": "2022-11-17T03:23:36.342726",
     "exception": false,
     "start_time": "2022-11-17T03:23:36.299575",
     "status": "completed"
    },
    "tags": []
   },
   "outputs": [
    {
     "name": "stdout",
     "output_type": "stream",
     "text": [
      "<class 'pandas.core.frame.DataFrame'>\n",
      "RangeIndex: 1461 entries, 0 to 1460\n",
      "Data columns (total 6 columns):\n",
      " #   Column         Non-Null Count  Dtype  \n",
      "---  ------         --------------  -----  \n",
      " 0   date           1461 non-null   object \n",
      " 1   precipitation  1461 non-null   float64\n",
      " 2   temp_max       1461 non-null   float64\n",
      " 3   temp_min       1461 non-null   float64\n",
      " 4   wind           1461 non-null   float64\n",
      " 5   weather        1461 non-null   object \n",
      "dtypes: float64(4), object(2)\n",
      "memory usage: 68.6+ KB\n"
     ]
    }
   ],
   "source": [
    "df.info()"
   ]
  },
  {
   "cell_type": "code",
   "execution_count": 7,
   "id": "dc4ca53c",
   "metadata": {
    "execution": {
     "iopub.execute_input": "2022-11-17T03:23:36.368339Z",
     "iopub.status.busy": "2022-11-17T03:23:36.367405Z",
     "iopub.status.idle": "2022-11-17T03:23:36.376433Z",
     "shell.execute_reply": "2022-11-17T03:23:36.375192Z"
    },
    "papermill": {
     "duration": 0.024304,
     "end_time": "2022-11-17T03:23:36.378868",
     "exception": false,
     "start_time": "2022-11-17T03:23:36.354564",
     "status": "completed"
    },
    "tags": []
   },
   "outputs": [
    {
     "data": {
      "text/plain": [
       "date              object\n",
       "precipitation    float64\n",
       "temp_max         float64\n",
       "temp_min         float64\n",
       "wind             float64\n",
       "weather           object\n",
       "dtype: object"
      ]
     },
     "execution_count": 7,
     "metadata": {},
     "output_type": "execute_result"
    }
   ],
   "source": [
    "df.dtypes"
   ]
  },
  {
   "cell_type": "markdown",
   "id": "a7460e91",
   "metadata": {
    "papermill": {
     "duration": 0.011444,
     "end_time": "2022-11-17T03:23:36.402167",
     "exception": false,
     "start_time": "2022-11-17T03:23:36.390723",
     "status": "completed"
    },
    "tags": []
   },
   "source": [
    "## 4.2 Stastical Summary"
   ]
  },
  {
   "cell_type": "code",
   "execution_count": 8,
   "id": "036702eb",
   "metadata": {
    "execution": {
     "iopub.execute_input": "2022-11-17T03:23:36.428227Z",
     "iopub.status.busy": "2022-11-17T03:23:36.427026Z",
     "iopub.status.idle": "2022-11-17T03:23:36.455905Z",
     "shell.execute_reply": "2022-11-17T03:23:36.454605Z"
    },
    "papermill": {
     "duration": 0.044488,
     "end_time": "2022-11-17T03:23:36.458463",
     "exception": false,
     "start_time": "2022-11-17T03:23:36.413975",
     "status": "completed"
    },
    "tags": []
   },
   "outputs": [
    {
     "data": {
      "text/html": [
       "<div>\n",
       "<style scoped>\n",
       "    .dataframe tbody tr th:only-of-type {\n",
       "        vertical-align: middle;\n",
       "    }\n",
       "\n",
       "    .dataframe tbody tr th {\n",
       "        vertical-align: top;\n",
       "    }\n",
       "\n",
       "    .dataframe thead th {\n",
       "        text-align: right;\n",
       "    }\n",
       "</style>\n",
       "<table border=\"1\" class=\"dataframe\">\n",
       "  <thead>\n",
       "    <tr style=\"text-align: right;\">\n",
       "      <th></th>\n",
       "      <th>precipitation</th>\n",
       "      <th>temp_max</th>\n",
       "      <th>temp_min</th>\n",
       "      <th>wind</th>\n",
       "    </tr>\n",
       "  </thead>\n",
       "  <tbody>\n",
       "    <tr>\n",
       "      <th>count</th>\n",
       "      <td>1461.000000</td>\n",
       "      <td>1461.000000</td>\n",
       "      <td>1461.000000</td>\n",
       "      <td>1461.000000</td>\n",
       "    </tr>\n",
       "    <tr>\n",
       "      <th>mean</th>\n",
       "      <td>3.029432</td>\n",
       "      <td>16.439083</td>\n",
       "      <td>8.234771</td>\n",
       "      <td>3.241136</td>\n",
       "    </tr>\n",
       "    <tr>\n",
       "      <th>std</th>\n",
       "      <td>6.680194</td>\n",
       "      <td>7.349758</td>\n",
       "      <td>5.023004</td>\n",
       "      <td>1.437825</td>\n",
       "    </tr>\n",
       "    <tr>\n",
       "      <th>min</th>\n",
       "      <td>0.000000</td>\n",
       "      <td>-1.600000</td>\n",
       "      <td>-7.100000</td>\n",
       "      <td>0.400000</td>\n",
       "    </tr>\n",
       "    <tr>\n",
       "      <th>25%</th>\n",
       "      <td>0.000000</td>\n",
       "      <td>10.600000</td>\n",
       "      <td>4.400000</td>\n",
       "      <td>2.200000</td>\n",
       "    </tr>\n",
       "    <tr>\n",
       "      <th>50%</th>\n",
       "      <td>0.000000</td>\n",
       "      <td>15.600000</td>\n",
       "      <td>8.300000</td>\n",
       "      <td>3.000000</td>\n",
       "    </tr>\n",
       "    <tr>\n",
       "      <th>75%</th>\n",
       "      <td>2.800000</td>\n",
       "      <td>22.200000</td>\n",
       "      <td>12.200000</td>\n",
       "      <td>4.000000</td>\n",
       "    </tr>\n",
       "    <tr>\n",
       "      <th>max</th>\n",
       "      <td>55.900000</td>\n",
       "      <td>35.600000</td>\n",
       "      <td>18.300000</td>\n",
       "      <td>9.500000</td>\n",
       "    </tr>\n",
       "  </tbody>\n",
       "</table>\n",
       "</div>"
      ],
      "text/plain": [
       "       precipitation     temp_max     temp_min         wind\n",
       "count    1461.000000  1461.000000  1461.000000  1461.000000\n",
       "mean        3.029432    16.439083     8.234771     3.241136\n",
       "std         6.680194     7.349758     5.023004     1.437825\n",
       "min         0.000000    -1.600000    -7.100000     0.400000\n",
       "25%         0.000000    10.600000     4.400000     2.200000\n",
       "50%         0.000000    15.600000     8.300000     3.000000\n",
       "75%         2.800000    22.200000    12.200000     4.000000\n",
       "max        55.900000    35.600000    18.300000     9.500000"
      ]
     },
     "execution_count": 8,
     "metadata": {},
     "output_type": "execute_result"
    }
   ],
   "source": [
    "df.describe()"
   ]
  },
  {
   "cell_type": "code",
   "execution_count": 9,
   "id": "c01095ef",
   "metadata": {
    "execution": {
     "iopub.execute_input": "2022-11-17T03:23:36.486186Z",
     "iopub.status.busy": "2022-11-17T03:23:36.484901Z",
     "iopub.status.idle": "2022-11-17T03:23:36.502599Z",
     "shell.execute_reply": "2022-11-17T03:23:36.501235Z"
    },
    "papermill": {
     "duration": 0.034696,
     "end_time": "2022-11-17T03:23:36.505184",
     "exception": false,
     "start_time": "2022-11-17T03:23:36.470488",
     "status": "completed"
    },
    "tags": []
   },
   "outputs": [
    {
     "data": {
      "text/html": [
       "<div>\n",
       "<style scoped>\n",
       "    .dataframe tbody tr th:only-of-type {\n",
       "        vertical-align: middle;\n",
       "    }\n",
       "\n",
       "    .dataframe tbody tr th {\n",
       "        vertical-align: top;\n",
       "    }\n",
       "\n",
       "    .dataframe thead th {\n",
       "        text-align: right;\n",
       "    }\n",
       "</style>\n",
       "<table border=\"1\" class=\"dataframe\">\n",
       "  <thead>\n",
       "    <tr style=\"text-align: right;\">\n",
       "      <th></th>\n",
       "      <th>date</th>\n",
       "      <th>weather</th>\n",
       "    </tr>\n",
       "  </thead>\n",
       "  <tbody>\n",
       "    <tr>\n",
       "      <th>count</th>\n",
       "      <td>1461</td>\n",
       "      <td>1461</td>\n",
       "    </tr>\n",
       "    <tr>\n",
       "      <th>unique</th>\n",
       "      <td>1461</td>\n",
       "      <td>5</td>\n",
       "    </tr>\n",
       "    <tr>\n",
       "      <th>top</th>\n",
       "      <td>2012-01-01</td>\n",
       "      <td>rain</td>\n",
       "    </tr>\n",
       "    <tr>\n",
       "      <th>freq</th>\n",
       "      <td>1</td>\n",
       "      <td>641</td>\n",
       "    </tr>\n",
       "  </tbody>\n",
       "</table>\n",
       "</div>"
      ],
      "text/plain": [
       "              date weather\n",
       "count         1461    1461\n",
       "unique        1461       5\n",
       "top     2012-01-01    rain\n",
       "freq             1     641"
      ]
     },
     "execution_count": 9,
     "metadata": {},
     "output_type": "execute_result"
    }
   ],
   "source": [
    "df.describe(include='object')"
   ]
  },
  {
   "cell_type": "markdown",
   "id": "cd9e74ee",
   "metadata": {
    "papermill": {
     "duration": 0.011855,
     "end_time": "2022-11-17T03:23:36.529113",
     "exception": false,
     "start_time": "2022-11-17T03:23:36.517258",
     "status": "completed"
    },
    "tags": []
   },
   "source": [
    "## 4.3 Visualization"
   ]
  },
  {
   "cell_type": "code",
   "execution_count": 10,
   "id": "be0faea4",
   "metadata": {
    "execution": {
     "iopub.execute_input": "2022-11-17T03:23:36.555738Z",
     "iopub.status.busy": "2022-11-17T03:23:36.554590Z",
     "iopub.status.idle": "2022-11-17T03:23:36.568105Z",
     "shell.execute_reply": "2022-11-17T03:23:36.566901Z"
    },
    "papermill": {
     "duration": 0.02942,
     "end_time": "2022-11-17T03:23:36.570671",
     "exception": false,
     "start_time": "2022-11-17T03:23:36.541251",
     "status": "completed"
    },
    "tags": []
   },
   "outputs": [
    {
     "data": {
      "text/plain": [
       "date             1461\n",
       "precipitation     111\n",
       "temp_max           67\n",
       "temp_min           55\n",
       "wind               79\n",
       "weather             5\n",
       "dtype: int64"
      ]
     },
     "execution_count": 10,
     "metadata": {},
     "output_type": "execute_result"
    }
   ],
   "source": [
    "df.nunique()"
   ]
  },
  {
   "cell_type": "code",
   "execution_count": 11,
   "id": "b34b63b9",
   "metadata": {
    "execution": {
     "iopub.execute_input": "2022-11-17T03:23:36.597413Z",
     "iopub.status.busy": "2022-11-17T03:23:36.596910Z",
     "iopub.status.idle": "2022-11-17T03:23:36.607425Z",
     "shell.execute_reply": "2022-11-17T03:23:36.606183Z"
    },
    "papermill": {
     "duration": 0.026864,
     "end_time": "2022-11-17T03:23:36.609957",
     "exception": false,
     "start_time": "2022-11-17T03:23:36.583093",
     "status": "completed"
    },
    "tags": []
   },
   "outputs": [
    {
     "data": {
      "text/plain": [
       "rain       641\n",
       "sun        640\n",
       "fog        101\n",
       "drizzle     53\n",
       "snow        26\n",
       "Name: weather, dtype: int64"
      ]
     },
     "execution_count": 11,
     "metadata": {},
     "output_type": "execute_result"
    }
   ],
   "source": [
    "df['weather'].value_counts()"
   ]
  },
  {
   "cell_type": "code",
   "execution_count": 12,
   "id": "c155ce68",
   "metadata": {
    "execution": {
     "iopub.execute_input": "2022-11-17T03:23:36.637027Z",
     "iopub.status.busy": "2022-11-17T03:23:36.636512Z",
     "iopub.status.idle": "2022-11-17T03:23:36.889279Z",
     "shell.execute_reply": "2022-11-17T03:23:36.888053Z"
    },
    "papermill": {
     "duration": 0.269056,
     "end_time": "2022-11-17T03:23:36.891874",
     "exception": false,
     "start_time": "2022-11-17T03:23:36.622818",
     "status": "completed"
    },
    "tags": []
   },
   "outputs": [
    {
     "data": {
      "image/png": "[encoded data removed]",
      "text/plain": [
       "<Figure size 720x360 with 1 Axes>"
      ]
     },
     "metadata": {
      "needs_background": "light"
     },
     "output_type": "display_data"
    }
   ],
   "source": [
    "plt.figure(figsize=(10,5))\n",
    "sns.set_theme()\n",
    "sns.countplot(x = 'weather',data = df,palette=\"ch:start=.2,rot=-.3\")\n",
    "plt.xlabel(\"weather\",fontweight='bold',size=20)\n",
    "plt.ylabel(\"Count\",fontweight='bold',size=20)\n",
    "plt.show()"
   ]
  },
  {
   "cell_type": "markdown",
   "id": "74cac325",
   "metadata": {
    "papermill": {
     "duration": 0.012061,
     "end_time": "2022-11-17T03:23:36.916585",
     "exception": false,
     "start_time": "2022-11-17T03:23:36.904524",
     "status": "completed"
    },
    "tags": []
   },
   "source": [
    "## 4.4 Correlation Matrix"
   ]
  },
  {
   "cell_type": "code",
   "execution_count": 13,
   "id": "b371351b",
   "metadata": {
    "execution": {
     "iopub.execute_input": "2022-11-17T03:23:36.943756Z",
     "iopub.status.busy": "2022-11-17T03:23:36.943262Z",
     "iopub.status.idle": "2022-11-17T03:23:37.259545Z",
     "shell.execute_reply": "2022-11-17T03:23:37.258344Z"
    },
    "papermill": {
     "duration": 0.333174,
     "end_time": "2022-11-17T03:23:37.262231",
     "exception": false,
     "start_time": "2022-11-17T03:23:36.929057",
     "status": "completed"
    },
    "tags": []
   },
   "outputs": [
    {
     "data": {
      "image/png": "[encoded data removed]",
      "text/plain": [
       "<Figure size 576x288 with 2 Axes>"
      ]
     },
     "metadata": {},
     "output_type": "display_data"
    }
   ],
   "source": [
    "cor=df.corr()\n",
    "plt.figure(figsize=(8,4))\n",
    "sns.heatmap(cor,annot=True,cmap='coolwarm')\n",
    "plt.show()"
   ]
  },
  {
   "cell_type": "markdown",
   "id": "d80ef109",
   "metadata": {
    "papermill": {
     "duration": 0.012658,
     "end_time": "2022-11-17T03:23:37.288513",
     "exception": false,
     "start_time": "2022-11-17T03:23:37.275855",
     "status": "completed"
    },
    "tags": []
   },
   "source": [
    "## 5. Prepare Data for Model Building "
   ]
  },
  {
   "cell_type": "code",
   "execution_count": 14,
   "id": "aa1293d8",
   "metadata": {
    "execution": {
     "iopub.execute_input": "2022-11-17T03:23:37.316697Z",
     "iopub.status.busy": "2022-11-17T03:23:37.316264Z",
     "iopub.status.idle": "2022-11-17T03:23:37.323118Z",
     "shell.execute_reply": "2022-11-17T03:23:37.321566Z"
    },
    "papermill": {
     "duration": 0.024147,
     "end_time": "2022-11-17T03:23:37.325726",
     "exception": false,
     "start_time": "2022-11-17T03:23:37.301579",
     "status": "completed"
    },
    "tags": []
   },
   "outputs": [],
   "source": [
    "df = df.drop('date',axis=1)"
   ]
  },
  {
   "cell_type": "markdown",
   "id": "3fe5009b",
   "metadata": {
    "papermill": {
     "duration": 0.012634,
     "end_time": "2022-11-17T03:23:37.351655",
     "exception": false,
     "start_time": "2022-11-17T03:23:37.339021",
     "status": "completed"
    },
    "tags": []
   },
   "source": [
    "## 5.1 Dividing data into dependent and independent components"
   ]
  },
  {
   "cell_type": "code",
   "execution_count": 15,
   "id": "d4964ddd",
   "metadata": {
    "execution": {
     "iopub.execute_input": "2022-11-17T03:23:37.380392Z",
     "iopub.status.busy": "2022-11-17T03:23:37.379899Z",
     "iopub.status.idle": "2022-11-17T03:23:37.386544Z",
     "shell.execute_reply": "2022-11-17T03:23:37.385215Z"
    },
    "papermill": {
     "duration": 0.024275,
     "end_time": "2022-11-17T03:23:37.388953",
     "exception": false,
     "start_time": "2022-11-17T03:23:37.364678",
     "status": "completed"
    },
    "tags": []
   },
   "outputs": [
    {
     "name": "stdout",
     "output_type": "stream",
     "text": [
      "(1461, 4) (1461,)\n"
     ]
    }
   ],
   "source": [
    "x = df.drop('weather',axis=1)\n",
    "y = df['weather']\n",
    "print(x.shape, y.shape)"
   ]
  },
  {
   "cell_type": "markdown",
   "id": "ffe5828f",
   "metadata": {
    "papermill": {
     "duration": 0.012711,
     "end_time": "2022-11-17T03:23:37.414967",
     "exception": false,
     "start_time": "2022-11-17T03:23:37.402256",
     "status": "completed"
    },
    "tags": []
   },
   "source": [
    "## 5.2 Apply SMOTE to Balance the Data"
   ]
  },
  {
   "cell_type": "code",
   "execution_count": 16,
   "id": "b4a6a78a",
   "metadata": {
    "execution": {
     "iopub.execute_input": "2022-11-17T03:23:37.444015Z",
     "iopub.status.busy": "2022-11-17T03:23:37.443158Z",
     "iopub.status.idle": "2022-11-17T03:23:37.803202Z",
     "shell.execute_reply": "2022-11-17T03:23:37.801704Z"
    },
    "papermill": {
     "duration": 0.378268,
     "end_time": "2022-11-17T03:23:37.806368",
     "exception": false,
     "start_time": "2022-11-17T03:23:37.428100",
     "status": "completed"
    },
    "tags": []
   },
   "outputs": [],
   "source": [
    "from imblearn.over_sampling import SMOTE\n",
    "from collections import Counter\n",
    "from matplotlib import pyplot\n",
    "from sklearn.preprocessing import LabelEncoder"
   ]
  },
  {
   "cell_type": "code",
   "execution_count": 17,
   "id": "689b0f38",
   "metadata": {
    "execution": {
     "iopub.execute_input": "2022-11-17T03:23:37.834816Z",
     "iopub.status.busy": "2022-11-17T03:23:37.834366Z",
     "iopub.status.idle": "2022-11-17T03:23:38.069156Z",
     "shell.execute_reply": "2022-11-17T03:23:38.068145Z"
    },
    "papermill": {
     "duration": 0.251999,
     "end_time": "2022-11-17T03:23:38.071731",
     "exception": false,
     "start_time": "2022-11-17T03:23:37.819732",
     "status": "completed"
    },
    "tags": []
   },
   "outputs": [
    {
     "name": "stdout",
     "output_type": "stream",
     "text": [
      "(3205, 4) (3205,)\n",
      "Class=0, n=641 (20.000%)\n",
      "Class=2, n=641 (20.000%)\n",
      "Class=4, n=641 (20.000%)\n",
      "Class=3, n=641 (20.000%)\n",
      "Class=1, n=641 (20.000%)\n"
     ]
    },
    {
     "data": {
      "image/png": "[encoded data removed]",
      "text/plain": [
       "<Figure size 432x288 with 1 Axes>"
      ]
     },
     "metadata": {},
     "output_type": "display_data"
    }
   ],
   "source": [
    "y = LabelEncoder().fit_transform(y)\n",
    "\n",
    "# transform the dataset\n",
    "oversample = SMOTE()\n",
    "x, y = oversample.fit_resample(x, y)\n",
    "print(x.shape, y.shape)\n",
    "\n",
    "# summarize distribution\n",
    "counter = Counter(y)\n",
    "for k,v in counter.items():\n",
    "    per = v/len(y) * 100\n",
    "    print('Class=%d, n=%d (%.3f%%)' % (k, v, per))\n",
    "    \n",
    "# plot the distribution\n",
    "pyplot.bar(counter.keys(), counter.values())\n",
    "pyplot.show()"
   ]
  },
  {
   "cell_type": "markdown",
   "id": "887dcb5c",
   "metadata": {
    "papermill": {
     "duration": 0.012958,
     "end_time": "2022-11-17T03:23:38.098608",
     "exception": false,
     "start_time": "2022-11-17T03:23:38.085650",
     "status": "completed"
    },
    "tags": []
   },
   "source": [
    "## 5.3 Spliting Data into train and test"
   ]
  },
  {
   "cell_type": "code",
   "execution_count": 18,
   "id": "4d5e2d0f",
   "metadata": {
    "execution": {
     "iopub.execute_input": "2022-11-17T03:23:38.129314Z",
     "iopub.status.busy": "2022-11-17T03:23:38.127886Z",
     "iopub.status.idle": "2022-11-17T03:23:38.136464Z",
     "shell.execute_reply": "2022-11-17T03:23:38.135209Z"
    },
    "papermill": {
     "duration": 0.026333,
     "end_time": "2022-11-17T03:23:38.139291",
     "exception": false,
     "start_time": "2022-11-17T03:23:38.112958",
     "status": "completed"
    },
    "tags": []
   },
   "outputs": [],
   "source": [
    "from sklearn.model_selection import train_test_split\n",
    "X_train, X_test, y_train, y_test = train_test_split(x, y, test_size = 0.25, random_state = 42)"
   ]
  },
  {
   "cell_type": "markdown",
   "id": "6d41c037",
   "metadata": {
    "papermill": {
     "duration": 0.012872,
     "end_time": "2022-11-17T03:23:38.165340",
     "exception": false,
     "start_time": "2022-11-17T03:23:38.152468",
     "status": "completed"
    },
    "tags": []
   },
   "source": [
    "## 5.4 Shape of train and test set"
   ]
  },
  {
   "cell_type": "code",
   "execution_count": 19,
   "id": "67867c8a",
   "metadata": {
    "execution": {
     "iopub.execute_input": "2022-11-17T03:23:38.193649Z",
     "iopub.status.busy": "2022-11-17T03:23:38.193147Z",
     "iopub.status.idle": "2022-11-17T03:23:38.201343Z",
     "shell.execute_reply": "2022-11-17T03:23:38.199942Z"
    },
    "papermill": {
     "duration": 0.025472,
     "end_time": "2022-11-17T03:23:38.203962",
     "exception": false,
     "start_time": "2022-11-17T03:23:38.178490",
     "status": "completed"
    },
    "tags": []
   },
   "outputs": [
    {
     "name": "stdout",
     "output_type": "stream",
     "text": [
      "****************************************\n",
      "\n",
      "\n",
      "Shape of x training data :  (2403, 4)\n",
      "Shape of y training data :  (2403,)\n",
      "**************************************** \n",
      "\n",
      "Shape of x testing data :  (802, 4)\n",
      "Shape of y testing data :  (802,)\n",
      "****************************************\n"
     ]
    }
   ],
   "source": [
    "print(\"*\"*40)\n",
    "print('\\n')\n",
    "print(\"Shape of x training data : \",X_train.shape)\n",
    "print(\"Shape of y training data : \",y_train.shape)\n",
    "print(\"*\"*40, '\\n')\n",
    "print(\"Shape of x testing data : \",X_test.shape)\n",
    "print(\"Shape of y testing data : \",y_test.shape)\n",
    "print(\"*\"*40)"
   ]
  },
  {
   "cell_type": "markdown",
   "id": "59b127b3",
   "metadata": {
    "papermill": {
     "duration": 0.012979,
     "end_time": "2022-11-17T03:23:38.230038",
     "exception": false,
     "start_time": "2022-11-17T03:23:38.217059",
     "status": "completed"
    },
    "tags": []
   },
   "source": [
    "## 5.5 Scale the Data"
   ]
  },
  {
   "cell_type": "code",
   "execution_count": 20,
   "id": "55e4b1ea",
   "metadata": {
    "execution": {
     "iopub.execute_input": "2022-11-17T03:23:38.258352Z",
     "iopub.status.busy": "2022-11-17T03:23:38.257846Z",
     "iopub.status.idle": "2022-11-17T03:23:38.269447Z",
     "shell.execute_reply": "2022-11-17T03:23:38.268353Z"
    },
    "papermill": {
     "duration": 0.028691,
     "end_time": "2022-11-17T03:23:38.271799",
     "exception": false,
     "start_time": "2022-11-17T03:23:38.243108",
     "status": "completed"
    },
    "tags": []
   },
   "outputs": [],
   "source": [
    "from sklearn.preprocessing import StandardScaler\n",
    "sc = StandardScaler()\n",
    "X_train = sc.fit_transform(X_train)\n",
    "X_test = sc.transform(X_test)"
   ]
  },
  {
   "cell_type": "markdown",
   "id": "ada4a7fb",
   "metadata": {
    "papermill": {
     "duration": 0.012845,
     "end_time": "2022-11-17T03:23:38.297945",
     "exception": false,
     "start_time": "2022-11-17T03:23:38.285100",
     "status": "completed"
    },
    "tags": []
   },
   "source": [
    "## 5.6 Defining Functions"
   ]
  },
  {
   "cell_type": "markdown",
   "id": "4db6b726",
   "metadata": {
    "papermill": {
     "duration": 0.012697,
     "end_time": "2022-11-17T03:23:38.323742",
     "exception": false,
     "start_time": "2022-11-17T03:23:38.311045",
     "status": "completed"
    },
    "tags": []
   },
   "source": [
    "## 1. Define Function for Classification Report"
   ]
  },
  {
   "cell_type": "code",
   "execution_count": 21,
   "id": "cfa1df25",
   "metadata": {
    "execution": {
     "iopub.execute_input": "2022-11-17T03:23:38.352321Z",
     "iopub.status.busy": "2022-11-17T03:23:38.351469Z",
     "iopub.status.idle": "2022-11-17T03:23:38.356621Z",
     "shell.execute_reply": "2022-11-17T03:23:38.355401Z"
    },
    "papermill": {
     "duration": 0.022308,
     "end_time": "2022-11-17T03:23:38.359125",
     "exception": false,
     "start_time": "2022-11-17T03:23:38.336817",
     "status": "completed"
    },
    "tags": []
   },
   "outputs": [],
   "source": [
    "def get_test_report(model):\n",
    "    return(classification_report(y_test, y_pred))"
   ]
  },
  {
   "cell_type": "markdown",
   "id": "de3e93ce",
   "metadata": {
    "papermill": {
     "duration": 0.012686,
     "end_time": "2022-11-17T03:23:38.385078",
     "exception": false,
     "start_time": "2022-11-17T03:23:38.372392",
     "status": "completed"
    },
    "tags": []
   },
   "source": [
    "## 2.Define function for Kappa Score"
   ]
  },
  {
   "cell_type": "code",
   "execution_count": 22,
   "id": "83f26473",
   "metadata": {
    "execution": {
     "iopub.execute_input": "2022-11-17T03:23:38.413439Z",
     "iopub.status.busy": "2022-11-17T03:23:38.412925Z",
     "iopub.status.idle": "2022-11-17T03:23:38.419405Z",
     "shell.execute_reply": "2022-11-17T03:23:38.417799Z"
    },
    "papermill": {
     "duration": 0.02395,
     "end_time": "2022-11-17T03:23:38.422127",
     "exception": false,
     "start_time": "2022-11-17T03:23:38.398177",
     "status": "completed"
    },
    "tags": []
   },
   "outputs": [],
   "source": [
    "def kappa_score(model):\n",
    "    return(cohen_kappa_score(y_test,y_pred))"
   ]
  },
  {
   "cell_type": "markdown",
   "id": "30797d5e",
   "metadata": {
    "papermill": {
     "duration": 0.013432,
     "end_time": "2022-11-17T03:23:38.449245",
     "exception": false,
     "start_time": "2022-11-17T03:23:38.435813",
     "status": "completed"
    },
    "tags": []
   },
   "source": [
    "## 3.Define function for Confusion Matrix in the form of Heat map"
   ]
  },
  {
   "cell_type": "code",
   "execution_count": 23,
   "id": "2f5d7ed1",
   "metadata": {
    "execution": {
     "iopub.execute_input": "2022-11-17T03:23:38.477737Z",
     "iopub.status.busy": "2022-11-17T03:23:38.477256Z",
     "iopub.status.idle": "2022-11-17T03:23:38.484748Z",
     "shell.execute_reply": "2022-11-17T03:23:38.483651Z"
    },
    "papermill": {
     "duration": 0.024523,
     "end_time": "2022-11-17T03:23:38.486990",
     "exception": false,
     "start_time": "2022-11-17T03:23:38.462467",
     "status": "completed"
    },
    "tags": []
   },
   "outputs": [],
   "source": [
    "def plot_confusion_matrix(model):\n",
    "    cm = confusion_matrix(y_test, y_pred)\n",
    "    \n",
    "    conf_matrix= pd.DataFrame(data= cm, columns= ['Predicted:0','Predicted:1','Predicted:2','Predicted:3','Predicted:4'],\n",
    "                             index= ['Actual:0','Actual:1','Actual:2','Actual:3','Actual:4'])\n",
    "    sns.heatmap(conf_matrix, annot= True, fmt='d', cmap= ListedColormap(['lightskyblue']),\n",
    "               cbar= False, linewidths=0.1, annot_kws={'size': 25})\n",
    "    \n",
    "    plt.xticks(fontsize=15, rotation=45)\n",
    "    plt.yticks(fontsize=15, rotation=45)\n",
    "    \n",
    "    plt.show()"
   ]
  },
  {
   "cell_type": "markdown",
   "id": "710b5952",
   "metadata": {
    "papermill": {
     "duration": 0.01269,
     "end_time": "2022-11-17T03:23:38.512965",
     "exception": false,
     "start_time": "2022-11-17T03:23:38.500275",
     "status": "completed"
    },
    "tags": []
   },
   "source": [
    "## 4.Define function for adding all Model for Comparision (Tabulate The Result)"
   ]
  },
  {
   "cell_type": "code",
   "execution_count": 24,
   "id": "950a1e62",
   "metadata": {
    "execution": {
     "iopub.execute_input": "2022-11-17T03:23:38.541279Z",
     "iopub.status.busy": "2022-11-17T03:23:38.540783Z",
     "iopub.status.idle": "2022-11-17T03:23:38.551626Z",
     "shell.execute_reply": "2022-11-17T03:23:38.550173Z"
    },
    "papermill": {
     "duration": 0.028168,
     "end_time": "2022-11-17T03:23:38.554109",
     "exception": false,
     "start_time": "2022-11-17T03:23:38.525941",
     "status": "completed"
    },
    "tags": []
   },
   "outputs": [],
   "source": [
    "score_card = pd.DataFrame(columns=['Model', 'Precision Score', 'Recall Score',\n",
    "                                   'Accuracy Score', 'Kappa Score', 'f1-score'])\n",
    "\n",
    "def update_score_card(model_name):\n",
    "    \n",
    "    global score_card\n",
    "\n",
    "    score_card = score_card.append({'Model': model_name,\n",
    "                                    'Precision Score': metrics.precision_score(y_test, y_pred, pos_label='positive',average='micro'),\n",
    "                                    'Recall Score': metrics.recall_score(y_test, y_pred, pos_label='positive',average='micro'),\n",
    "                                    'Accuracy Score': metrics.accuracy_score(y_test, y_pred),\n",
    "                                    'Kappa Score': cohen_kappa_score(y_test, y_pred),\n",
    "                                    'f1-score': metrics.f1_score(y_test, y_pred, pos_label='positive', average='micro')}, \n",
    "                                    ignore_index = True)\n",
    "    return(score_card)"
   ]
  },
  {
   "cell_type": "markdown",
   "id": "b44e5e23",
   "metadata": {
    "papermill": {
     "duration": 0.01273,
     "end_time": "2022-11-17T03:23:38.579996",
     "exception": false,
     "start_time": "2022-11-17T03:23:38.567266",
     "status": "completed"
    },
    "tags": []
   },
   "source": [
    "# 6. Apply Classification Models"
   ]
  },
  {
   "cell_type": "markdown",
   "id": "599e77bf",
   "metadata": {
    "papermill": {
     "duration": 0.012838,
     "end_time": "2022-11-17T03:23:38.605765",
     "exception": false,
     "start_time": "2022-11-17T03:23:38.592927",
     "status": "completed"
    },
    "tags": []
   },
   "source": [
    "# Naive Bayes"
   ]
  },
  {
   "cell_type": "code",
   "execution_count": 25,
   "id": "8d642f56",
   "metadata": {
    "execution": {
     "iopub.execute_input": "2022-11-17T03:23:38.633969Z",
     "iopub.status.busy": "2022-11-17T03:23:38.633463Z",
     "iopub.status.idle": "2022-11-17T03:23:38.644367Z",
     "shell.execute_reply": "2022-11-17T03:23:38.642763Z"
    },
    "papermill": {
     "duration": 0.028054,
     "end_time": "2022-11-17T03:23:38.646997",
     "exception": false,
     "start_time": "2022-11-17T03:23:38.618943",
     "status": "completed"
    },
    "tags": []
   },
   "outputs": [],
   "source": [
    "from sklearn.naive_bayes import GaussianNB\n",
    "classifier = GaussianNB()\n",
    "GNB=classifier.fit(X_train, y_train)"
   ]
  },
  {
   "cell_type": "code",
   "execution_count": 26,
   "id": "c077be37",
   "metadata": {
    "execution": {
     "iopub.execute_input": "2022-11-17T03:23:38.675445Z",
     "iopub.status.busy": "2022-11-17T03:23:38.674957Z",
     "iopub.status.idle": "2022-11-17T03:23:38.681459Z",
     "shell.execute_reply": "2022-11-17T03:23:38.680207Z"
    },
    "papermill": {
     "duration": 0.023632,
     "end_time": "2022-11-17T03:23:38.683905",
     "exception": false,
     "start_time": "2022-11-17T03:23:38.660273",
     "status": "completed"
    },
    "tags": []
   },
   "outputs": [],
   "source": [
    "y_pred = classifier.predict(X_test)"
   ]
  },
  {
   "cell_type": "code",
   "execution_count": 27,
   "id": "73e5cc76",
   "metadata": {
    "execution": {
     "iopub.execute_input": "2022-11-17T03:23:38.712430Z",
     "iopub.status.busy": "2022-11-17T03:23:38.711942Z",
     "iopub.status.idle": "2022-11-17T03:23:38.724977Z",
     "shell.execute_reply": "2022-11-17T03:23:38.723014Z"
    },
    "papermill": {
     "duration": 0.030924,
     "end_time": "2022-11-17T03:23:38.727941",
     "exception": false,
     "start_time": "2022-11-17T03:23:38.697017",
     "status": "completed"
    },
    "tags": []
   },
   "outputs": [
    {
     "name": "stdout",
     "output_type": "stream",
     "text": [
      "              precision    recall  f1-score   support\n",
      "\n",
      "           0       0.55      0.39      0.46       157\n",
      "           1       0.51      0.54      0.52       164\n",
      "           2       0.98      0.78      0.87       162\n",
      "           3       0.87      0.99      0.93       151\n",
      "           4       0.48      0.62      0.54       168\n",
      "\n",
      "    accuracy                           0.66       802\n",
      "   macro avg       0.68      0.66      0.66       802\n",
      "weighted avg       0.68      0.66      0.66       802\n",
      "\n"
     ]
    }
   ],
   "source": [
    "print(get_test_report(GNB))"
   ]
  },
  {
   "cell_type": "code",
   "execution_count": 28,
   "id": "b22240e5",
   "metadata": {
    "execution": {
     "iopub.execute_input": "2022-11-17T03:23:38.757471Z",
     "iopub.status.busy": "2022-11-17T03:23:38.756490Z",
     "iopub.status.idle": "2022-11-17T03:23:38.764626Z",
     "shell.execute_reply": "2022-11-17T03:23:38.763354Z"
    },
    "papermill": {
     "duration": 0.02573,
     "end_time": "2022-11-17T03:23:38.767204",
     "exception": false,
     "start_time": "2022-11-17T03:23:38.741474",
     "status": "completed"
    },
    "tags": []
   },
   "outputs": [
    {
     "name": "stdout",
     "output_type": "stream",
     "text": [
      "Accuracy score : 0.6596009975062345\n"
     ]
    }
   ],
   "source": [
    "acc4 = accuracy_score(y_test, y_pred)\n",
    "print(f\"Accuracy score : {acc4}\")"
   ]
  },
  {
   "cell_type": "code",
   "execution_count": 29,
   "id": "00624304",
   "metadata": {
    "execution": {
     "iopub.execute_input": "2022-11-17T03:23:38.796979Z",
     "iopub.status.busy": "2022-11-17T03:23:38.796006Z",
     "iopub.status.idle": "2022-11-17T03:23:38.806179Z",
     "shell.execute_reply": "2022-11-17T03:23:38.805282Z"
    },
    "papermill": {
     "duration": 0.027505,
     "end_time": "2022-11-17T03:23:38.808518",
     "exception": false,
     "start_time": "2022-11-17T03:23:38.781013",
     "status": "completed"
    },
    "tags": []
   },
   "outputs": [
    {
     "data": {
      "text/plain": [
       "0.5740938508493962"
      ]
     },
     "execution_count": 29,
     "metadata": {},
     "output_type": "execute_result"
    }
   ],
   "source": [
    "kappa_score(GNB)"
   ]
  },
  {
   "cell_type": "code",
   "execution_count": 30,
   "id": "86f08e41",
   "metadata": {
    "execution": {
     "iopub.execute_input": "2022-11-17T03:23:38.837627Z",
     "iopub.status.busy": "2022-11-17T03:23:38.836371Z",
     "iopub.status.idle": "2022-11-17T03:23:39.080105Z",
     "shell.execute_reply": "2022-11-17T03:23:39.078884Z"
    },
    "papermill": {
     "duration": 0.261217,
     "end_time": "2022-11-17T03:23:39.083007",
     "exception": false,
     "start_time": "2022-11-17T03:23:38.821790",
     "status": "completed"
    },
    "tags": []
   },
   "outputs": [
    {
     "data": {
      "image/png": "[encoded data removed]",
      "text/plain": [
       "<Figure size 432x288 with 1 Axes>"
      ]
     },
     "metadata": {},
     "output_type": "display_data"
    }
   ],
   "source": [
    "plot_confusion_matrix(GNB)"
   ]
  },
  {
   "cell_type": "code",
   "execution_count": null,
   "id": "f7e34112",
   "metadata": {},
   "outputs": [],
   "source": []
  }
 ],
 "metadata": {
  "kernelspec": {
   "display_name": "Python 3",
   "language": "python",
   "name": "python3"
  },
  "language_info": {
   "codemirror_mode": {
    "name": "ipython",
    "version": 3
   },
   "file_extension": ".py",
   "mimetype": "text/x-python",
   "name": "python",
   "nbconvert_exporter": "python",
   "pygments_lexer": "ipython3",
   "version": "3.9.7"
  },
  "papermill": {
   "default_parameters": {},
   "duration": 17.166689,
   "end_time": "2022-11-17T03:23:40.120564",
   "environment_variables": {},
   "exception": null,
   "input_path": "__notebook__.ipynb",
   "output_path": "__notebook__.ipynb",
   "parameters": {},
   "start_time": "2022-11-17T03:23:22.953875",
   "version": "2.3.4"
  }
 },
 "nbformat": 4,
 "nbformat_minor": 5
}
